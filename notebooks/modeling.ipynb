{
 "cells": [
  {
   "cell_type": "code",
   "execution_count": 17,
   "metadata": {},
   "outputs": [
    {
     "name": "stdout",
     "output_type": "stream",
     "text": [
      "Setup completed!\n"
     ]
    }
   ],
   "source": [
    "import pandas as pd\n",
    "import numpy as np\n",
    "import matplotlib.pyplot as plt\n",
    "from matplotlib.colors import ListedColormap\n",
    "import seaborn as sns\n",
    "\n",
    "print('Setup completed!')"
   ]
  },
  {
   "cell_type": "code",
   "execution_count": 2,
   "metadata": {},
   "outputs": [],
   "source": [
    "DATASET = '../data/'"
   ]
  },
  {
   "cell_type": "code",
   "execution_count": 5,
   "metadata": {},
   "outputs": [],
   "source": [
    "df = pd.read_csv(DATASET + 'breast-cancer-encoded.csv', index_col=[0])"
   ]
  },
  {
   "cell_type": "code",
   "execution_count": 6,
   "metadata": {},
   "outputs": [
    {
     "data": {
      "text/html": [
       "<div>\n",
       "<style scoped>\n",
       "    .dataframe tbody tr th:only-of-type {\n",
       "        vertical-align: middle;\n",
       "    }\n",
       "\n",
       "    .dataframe tbody tr th {\n",
       "        vertical-align: top;\n",
       "    }\n",
       "\n",
       "    .dataframe thead th {\n",
       "        text-align: right;\n",
       "    }\n",
       "</style>\n",
       "<table border=\"1\" class=\"dataframe\">\n",
       "  <thead>\n",
       "    <tr style=\"text-align: right;\">\n",
       "      <th></th>\n",
       "      <th>class</th>\n",
       "      <th>age</th>\n",
       "      <th>menopause</th>\n",
       "      <th>tumor-size</th>\n",
       "      <th>inv-nodes</th>\n",
       "      <th>node-caps</th>\n",
       "      <th>def-malig</th>\n",
       "      <th>breast</th>\n",
       "      <th>breast-quad</th>\n",
       "      <th>irradiat</th>\n",
       "    </tr>\n",
       "  </thead>\n",
       "  <tbody>\n",
       "    <tr>\n",
       "      <th>0</th>\n",
       "      <td>no-recurrence-events</td>\n",
       "      <td>1.0</td>\n",
       "      <td>2.0</td>\n",
       "      <td>5.0</td>\n",
       "      <td>0.0</td>\n",
       "      <td>0.0</td>\n",
       "      <td>2.0</td>\n",
       "      <td>0.0</td>\n",
       "      <td>1.0</td>\n",
       "      <td>0.0</td>\n",
       "    </tr>\n",
       "    <tr>\n",
       "      <th>1</th>\n",
       "      <td>no-recurrence-events</td>\n",
       "      <td>2.0</td>\n",
       "      <td>2.0</td>\n",
       "      <td>3.0</td>\n",
       "      <td>0.0</td>\n",
       "      <td>0.0</td>\n",
       "      <td>1.0</td>\n",
       "      <td>1.0</td>\n",
       "      <td>4.0</td>\n",
       "      <td>0.0</td>\n",
       "    </tr>\n",
       "    <tr>\n",
       "      <th>2</th>\n",
       "      <td>no-recurrence-events</td>\n",
       "      <td>2.0</td>\n",
       "      <td>2.0</td>\n",
       "      <td>3.0</td>\n",
       "      <td>0.0</td>\n",
       "      <td>0.0</td>\n",
       "      <td>1.0</td>\n",
       "      <td>0.0</td>\n",
       "      <td>1.0</td>\n",
       "      <td>0.0</td>\n",
       "    </tr>\n",
       "    <tr>\n",
       "      <th>3</th>\n",
       "      <td>no-recurrence-events</td>\n",
       "      <td>4.0</td>\n",
       "      <td>0.0</td>\n",
       "      <td>2.0</td>\n",
       "      <td>0.0</td>\n",
       "      <td>0.0</td>\n",
       "      <td>1.0</td>\n",
       "      <td>1.0</td>\n",
       "      <td>2.0</td>\n",
       "      <td>0.0</td>\n",
       "    </tr>\n",
       "    <tr>\n",
       "      <th>4</th>\n",
       "      <td>no-recurrence-events</td>\n",
       "      <td>2.0</td>\n",
       "      <td>2.0</td>\n",
       "      <td>0.0</td>\n",
       "      <td>0.0</td>\n",
       "      <td>0.0</td>\n",
       "      <td>1.0</td>\n",
       "      <td>1.0</td>\n",
       "      <td>3.0</td>\n",
       "      <td>0.0</td>\n",
       "    </tr>\n",
       "  </tbody>\n",
       "</table>\n",
       "</div>"
      ],
      "text/plain": [
       "                  class  age  menopause  tumor-size  inv-nodes  node-caps  \\\n",
       "0  no-recurrence-events  1.0        2.0         5.0        0.0        0.0   \n",
       "1  no-recurrence-events  2.0        2.0         3.0        0.0        0.0   \n",
       "2  no-recurrence-events  2.0        2.0         3.0        0.0        0.0   \n",
       "3  no-recurrence-events  4.0        0.0         2.0        0.0        0.0   \n",
       "4  no-recurrence-events  2.0        2.0         0.0        0.0        0.0   \n",
       "\n",
       "   def-malig  breast  breast-quad  irradiat  \n",
       "0        2.0     0.0          1.0       0.0  \n",
       "1        1.0     1.0          4.0       0.0  \n",
       "2        1.0     0.0          1.0       0.0  \n",
       "3        1.0     1.0          2.0       0.0  \n",
       "4        1.0     1.0          3.0       0.0  "
      ]
     },
     "execution_count": 6,
     "metadata": {},
     "output_type": "execute_result"
    }
   ],
   "source": [
    "df.head()"
   ]
  },
  {
   "cell_type": "code",
   "execution_count": 9,
   "metadata": {},
   "outputs": [],
   "source": [
    "x = df.iloc[:, 1:]\n",
    "y = df['class']"
   ]
  },
  {
   "cell_type": "code",
   "execution_count": 10,
   "metadata": {},
   "outputs": [],
   "source": [
    "from sklearn.model_selection import train_test_split\n",
    "\n",
    "x_train, x_test, y_train, y_test = train_test_split(\n",
    "    x, y, stratify=y, test_size=0.2, random_state=42\n",
    ")"
   ]
  },
  {
   "cell_type": "code",
   "execution_count": 11,
   "metadata": {},
   "outputs": [
    {
     "data": {
      "text/plain": [
       "((220, 9), (56, 9))"
      ]
     },
     "execution_count": 11,
     "metadata": {},
     "output_type": "execute_result"
    }
   ],
   "source": [
    "x_train.shape, x_test.shape"
   ]
  },
  {
   "cell_type": "markdown",
   "metadata": {},
   "source": [
    "## Build Classification models"
   ]
  },
  {
   "cell_type": "code",
   "execution_count": 12,
   "metadata": {},
   "outputs": [],
   "source": [
    "from sklearn.metrics import accuracy_score\n",
    "from sklearn.metrics import matthews_corrcoef\n",
    "from sklearn.metrics import f1_score"
   ]
  },
  {
   "cell_type": "markdown",
   "metadata": {},
   "source": [
    "### K-Nearest Neighbors"
   ]
  },
  {
   "cell_type": "code",
   "execution_count": 13,
   "metadata": {},
   "outputs": [],
   "source": [
    "from sklearn.neighbors import KNeighborsClassifier\n",
    "\n",
    "knn = KNeighborsClassifier(3)\n",
    "knn.fit(x_train, y_train)\n",
    "\n",
    "# make predictions\n",
    "y_train_pred = knn.predict(x_train)\n",
    "y_test_pred = knn.predict(x_test)\n",
    "\n",
    "# training set performance\n",
    "knn_train_accuracy = accuracy_score(y_train, y_train_pred)\n",
    "knn_train_mcc = matthews_corrcoef(y_train, y_train_pred)\n",
    "knn_train_f1 = f1_score(y_train, y_train_pred, average='weighted')\n",
    "\n",
    "# test set performance\n",
    "knn_test_accuracy = accuracy_score(y_test, y_test_pred)\n",
    "knn_test_mcc = matthews_corrcoef(y_test, y_test_pred)\n",
    "knn_test_f1 = f1_score(y_test, y_test_pred, average='weighted')\n"
   ]
  },
  {
   "cell_type": "code",
   "execution_count": 14,
   "metadata": {},
   "outputs": [
    {
     "name": "stdout",
     "output_type": "stream",
     "text": [
      "Model performance for training set\n",
      "Accuracy: 0.8090909090909091\n",
      "MCC: 0.513205391695839\n",
      "F1 score: 0.7989883592017737\n",
      "--------------------------------------\n",
      "Model performance for test set\n",
      "Accuracy: 0.7321428571428571\n",
      "MCC: 0.2613838422748508\n",
      "F1 score: 0.7054187192118225\n"
     ]
    }
   ],
   "source": [
    "print('Model performance for training set')\n",
    "print(f'Accuracy: {knn_train_accuracy}')\n",
    "print(f'MCC: {knn_train_mcc}')\n",
    "print(f'F1 score: {knn_train_f1}')\n",
    "print('--------------------------------------')\n",
    "print('Model performance for test set')\n",
    "print(f'Accuracy: {knn_test_accuracy}')\n",
    "print(f'MCC: {knn_test_mcc}')\n",
    "print(f'F1 score: {knn_test_f1}')"
   ]
  },
  {
   "cell_type": "markdown",
   "metadata": {},
   "source": [
    "#### KNN did not overfit the data"
   ]
  },
  {
   "cell_type": "markdown",
   "metadata": {},
   "source": [
    "## Support Vector Machine (SVM)"
   ]
  },
  {
   "cell_type": "code",
   "execution_count": 32,
   "metadata": {},
   "outputs": [
    {
     "data": {
      "text/plain": [
       "SVC(C=1, gamma=2)"
      ]
     },
     "execution_count": 32,
     "metadata": {},
     "output_type": "execute_result"
    }
   ],
   "source": [
    "from sklearn.svm import SVC\n",
    "\n",
    "svm = SVC(gamma=2, C=1)\n",
    "svm.fit(x_train, y_train)"
   ]
  },
  {
   "cell_type": "code",
   "execution_count": 33,
   "metadata": {},
   "outputs": [],
   "source": [
    "# make predictions\n",
    "y_train_pred = svm.predict(x_train)\n",
    "y_test_pred = svm.predict(x_test)\n",
    "\n",
    "# training set performance\n",
    "svm_train_accuracy = accuracy_score(y_train, y_train_pred)\n",
    "svm_train_mcc = matthews_corrcoef(y_train, y_train_pred)\n",
    "svm_train_f1 = f1_score(y_train, y_train_pred, average='weighted')\n",
    "\n",
    "# test set performance\n",
    "svm_test_accuracy = accuracy_score(y_test, y_test_pred)\n",
    "svm_test_mcc = matthews_corrcoef(y_test, y_test_pred)\n",
    "svm_test_f1 = f1_score(y_test, y_test_pred, average='weighted')"
   ]
  },
  {
   "cell_type": "code",
   "execution_count": 34,
   "metadata": {},
   "outputs": [
    {
     "name": "stdout",
     "output_type": "stream",
     "text": [
      "Model performance for training set\n",
      "Accuracy: 0.9772727272727273\n",
      "MCC: 0.9451890389839106\n",
      "F1 score: 0.9771132115601437\n",
      "--------------------------------------\n",
      "Model performance for test set\n",
      "Accuracy: 0.7321428571428571\n",
      "MCC: 0.21320071635561041\n",
      "F1 score: 0.6351172047766476\n"
     ]
    }
   ],
   "source": [
    "print('Model performance for training set')\n",
    "print(f'Accuracy: {svm_train_accuracy}')\n",
    "print(f'MCC: {svm_train_mcc}')\n",
    "print(f'F1 score: {svm_train_f1}')\n",
    "print('--------------------------------------')\n",
    "print('Model performance for test set')\n",
    "print(f'Accuracy: {svm_test_accuracy}')\n",
    "print(f'MCC: {svm_test_mcc}')\n",
    "print(f'F1 score: {svm_test_f1}')"
   ]
  },
  {
   "cell_type": "markdown",
   "metadata": {},
   "source": [
    "## Neural Network"
   ]
  },
  {
   "cell_type": "code",
   "execution_count": 35,
   "metadata": {},
   "outputs": [
    {
     "data": {
      "text/plain": [
       "MLPClassifier(alpha=1, max_iter=1000)"
      ]
     },
     "execution_count": 35,
     "metadata": {},
     "output_type": "execute_result"
    }
   ],
   "source": [
    "from sklearn.neural_network import MLPClassifier\n",
    "\n",
    "mlp = MLPClassifier(alpha=1, max_iter=1000)\n",
    "mlp.fit(x_train, y_train)"
   ]
  },
  {
   "cell_type": "code",
   "execution_count": 36,
   "metadata": {},
   "outputs": [],
   "source": [
    "# make predictions\n",
    "y_train_pred = mlp.predict(x_train)\n",
    "y_test_pred = mlp.predict(x_test)\n",
    "\n",
    "# training set performance\n",
    "mlp_train_accuracy = accuracy_score(y_train, y_train_pred)\n",
    "mlp_train_mcc = matthews_corrcoef(y_train, y_train_pred)\n",
    "mlp_train_f1 = f1_score(y_train, y_train_pred, average='weighted')\n",
    "\n",
    "# test set performance\n",
    "mlp_test_accuracy = accuracy_score(y_test, y_test_pred)\n",
    "mlp_test_mcc = matthews_corrcoef(y_test, y_test_pred)\n",
    "mlp_test_f1 = f1_score(y_test, y_test_pred, average='weighted')"
   ]
  },
  {
   "cell_type": "code",
   "execution_count": 37,
   "metadata": {},
   "outputs": [
    {
     "name": "stdout",
     "output_type": "stream",
     "text": [
      "Model performance for training set\n",
      "Accuracy: 0.7681818181818182\n",
      "MCC: 0.4020047036006941\n",
      "F1 score: 0.7550353614183399\n",
      "--------------------------------------\n",
      "Model performance for test set\n",
      "Accuracy: 0.75\n",
      "MCC: 0.3440511766019877\n",
      "F1 score: 0.7380952380952381\n"
     ]
    }
   ],
   "source": [
    "print('Model performance for training set')\n",
    "print(f'Accuracy: {mlp_train_accuracy}')\n",
    "print(f'MCC: {mlp_train_mcc}')\n",
    "print(f'F1 score: {mlp_train_f1}')\n",
    "print('--------------------------------------')\n",
    "print('Model performance for test set')\n",
    "print(f'Accuracy: {mlp_test_accuracy}')\n",
    "print(f'MCC: {mlp_test_mcc}')\n",
    "print(f'F1 score: {mlp_test_f1}')"
   ]
  },
  {
   "cell_type": "markdown",
   "metadata": {},
   "source": [
    "# Build stacked model"
   ]
  },
  {
   "cell_type": "code",
   "execution_count": 38,
   "metadata": {},
   "outputs": [],
   "source": [
    "from sklearn.ensemble import StackingClassifier\n",
    "from sklearn.linear_model import LogisticRegression\n",
    "\n",
    "estimators = [\n",
    "    ('knn', knn),\n",
    "    ('svm', svm),\n",
    "    ('mlp', mlp),\n",
    "]"
   ]
  },
  {
   "cell_type": "code",
   "execution_count": 39,
   "metadata": {},
   "outputs": [],
   "source": [
    "# build stack model\n",
    "stack_model = StackingClassifier(\n",
    "    estimators=estimators, final_estimator=LogisticRegression()\n",
    ")\n",
    "\n",
    "# train stack model\n",
    "stack_model.fit(x_train, y_train)\n",
    "\n",
    "# make prediction\n",
    "y_train_pred = stack_model.predict(x_train)\n",
    "y_test_pred = stack_model.predict(x_test)\n",
    "\n",
    "# training set model performance\n",
    "stack_model_train_accuracy = accuracy_score(y_train, y_train_pred)\n",
    "stack_model_train_mcc = matthews_corrcoef(y_train, y_train_pred)\n",
    "stack_model_train_f1 = f1_score(y_train, y_train_pred, average='weighted')\n",
    "\n",
    "# test set performance\n",
    "stack_model_test_accuracy = accuracy_score(y_test, y_test_pred)\n",
    "stack_model_test_mcc = matthews_corrcoef(y_test, y_test_pred)\n",
    "stack_model_test_f1 = f1_score(y_test, y_test_pred, average='weighted')"
   ]
  },
  {
   "cell_type": "code",
   "execution_count": 40,
   "metadata": {},
   "outputs": [
    {
     "name": "stdout",
     "output_type": "stream",
     "text": [
      "Model performance for training set\n",
      "Accuracy: 0.8818181818181818\n",
      "MCC: 0.7168069159098094\n",
      "F1 score: 0.8716179653679653\n",
      "--------------------------------------\n",
      "Model performance for test set\n",
      "Accuracy: 0.7321428571428571\n",
      "MCC: 0.21320071635561041\n",
      "F1 score: 0.6351172047766476\n"
     ]
    }
   ],
   "source": [
    "print('Model performance for training set')\n",
    "print(f'Accuracy: {stack_model_train_accuracy}')\n",
    "print(f'MCC: {stack_model_train_mcc}')\n",
    "print(f'F1 score: {stack_model_train_f1}')\n",
    "print('--------------------------------------')\n",
    "print('Model performance for test set')\n",
    "print(f'Accuracy: {stack_model_test_accuracy}')\n",
    "print(f'MCC: {stack_model_test_mcc}')\n",
    "print(f'F1 score: {stack_model_test_f1}')"
   ]
  },
  {
   "cell_type": "markdown",
   "metadata": {},
   "source": [
    "## Results"
   ]
  },
  {
   "cell_type": "code",
   "execution_count": 45,
   "metadata": {},
   "outputs": [],
   "source": [
    "acc_train_list = {'knn':knn_train_accuracy,\n",
    "                  'svm':svm_train_accuracy,\n",
    "                  'mlp':mlp_train_accuracy,\n",
    "                  'stack':stack_model_train_accuracy}\n",
    "\n",
    "mcc_train_list = {'knn':knn_train_mcc,\n",
    "                  'svm':svm_train_mcc,\n",
    "                  'mlp':mlp_train_mcc,\n",
    "                  'stack':stack_model_train_mcc}\n",
    "\n",
    "f1_train_list = {'knn':knn_train_f1,\n",
    "                  'svm':svm_train_f1,\n",
    "                  'mlp':mlp_train_f1,\n",
    "                  'stack':stack_model_train_f1}"
   ]
  },
  {
   "cell_type": "code",
   "execution_count": 46,
   "metadata": {},
   "outputs": [
    {
     "data": {
      "text/plain": [
       "{'knn': 0.513205391695839,\n",
       " 'svm': 0.9451890389839106,\n",
       " 'mlp': 0.4020047036006941,\n",
       " 'stack': 0.7168069159098094}"
      ]
     },
     "execution_count": 46,
     "metadata": {},
     "output_type": "execute_result"
    }
   ],
   "source": [
    "mcc_train_list"
   ]
  },
  {
   "cell_type": "code",
   "execution_count": 47,
   "metadata": {},
   "outputs": [],
   "source": [
    "acc_df = pd.DataFrame.from_dict(acc_train_list, orient='index', columns=['Accuracy'])\n",
    "mcc_df = pd.DataFrame.from_dict(mcc_train_list, orient='index', columns=['MCC'])\n",
    "f1_df = pd.DataFrame.from_dict(f1_train_list, orient='index', columns=['F1'])\n",
    "\n",
    "model_df = pd.concat([acc_df, mcc_df, f1_df], axis=1)"
   ]
  },
  {
   "cell_type": "code",
   "execution_count": 48,
   "metadata": {},
   "outputs": [
    {
     "data": {
      "text/html": [
       "<div>\n",
       "<style scoped>\n",
       "    .dataframe tbody tr th:only-of-type {\n",
       "        vertical-align: middle;\n",
       "    }\n",
       "\n",
       "    .dataframe tbody tr th {\n",
       "        vertical-align: top;\n",
       "    }\n",
       "\n",
       "    .dataframe thead th {\n",
       "        text-align: right;\n",
       "    }\n",
       "</style>\n",
       "<table border=\"1\" class=\"dataframe\">\n",
       "  <thead>\n",
       "    <tr style=\"text-align: right;\">\n",
       "      <th></th>\n",
       "      <th>Accuracy</th>\n",
       "      <th>MCC</th>\n",
       "      <th>F1</th>\n",
       "    </tr>\n",
       "  </thead>\n",
       "  <tbody>\n",
       "    <tr>\n",
       "      <th>knn</th>\n",
       "      <td>0.809091</td>\n",
       "      <td>0.513205</td>\n",
       "      <td>0.798988</td>\n",
       "    </tr>\n",
       "    <tr>\n",
       "      <th>svm</th>\n",
       "      <td>0.977273</td>\n",
       "      <td>0.945189</td>\n",
       "      <td>0.977113</td>\n",
       "    </tr>\n",
       "    <tr>\n",
       "      <th>mlp</th>\n",
       "      <td>0.768182</td>\n",
       "      <td>0.402005</td>\n",
       "      <td>0.755035</td>\n",
       "    </tr>\n",
       "    <tr>\n",
       "      <th>stack</th>\n",
       "      <td>0.881818</td>\n",
       "      <td>0.716807</td>\n",
       "      <td>0.871618</td>\n",
       "    </tr>\n",
       "  </tbody>\n",
       "</table>\n",
       "</div>"
      ],
      "text/plain": [
       "       Accuracy       MCC        F1\n",
       "knn    0.809091  0.513205  0.798988\n",
       "svm    0.977273  0.945189  0.977113\n",
       "mlp    0.768182  0.402005  0.755035\n",
       "stack  0.881818  0.716807  0.871618"
      ]
     },
     "execution_count": 48,
     "metadata": {},
     "output_type": "execute_result"
    }
   ],
   "source": [
    "model_df"
   ]
  },
  {
   "cell_type": "markdown",
   "metadata": {},
   "source": [
    "## Conclusion: SVM is the best performer among the models for this dataset"
   ]
  },
  {
   "cell_type": "code",
   "execution_count": 49,
   "metadata": {},
   "outputs": [],
   "source": [
    "model_df.to_csv(DATASET + 'model-performance.csv')"
   ]
  }
 ],
 "metadata": {
  "interpreter": {
   "hash": "faec18728c7b47fa67086100606100cd4f850f0f83d26ce051179629eff35c64"
  },
  "kernelspec": {
   "display_name": "Python 3.9.7 ('env': venv)",
   "language": "python",
   "name": "python3"
  },
  "language_info": {
   "codemirror_mode": {
    "name": "ipython",
    "version": 3
   },
   "file_extension": ".py",
   "mimetype": "text/x-python",
   "name": "python",
   "nbconvert_exporter": "python",
   "pygments_lexer": "ipython3",
   "version": "3.9.7"
  },
  "orig_nbformat": 4
 },
 "nbformat": 4,
 "nbformat_minor": 2
}
