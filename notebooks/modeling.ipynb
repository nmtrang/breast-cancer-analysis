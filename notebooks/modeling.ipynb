{
 "cells": [
  {
   "cell_type": "code",
   "execution_count": 79,
   "metadata": {},
   "outputs": [
    {
     "name": "stdout",
     "output_type": "stream",
     "text": [
      "Setup completed!\n"
     ]
    }
   ],
   "source": [
    "import pandas as pd\n",
    "import numpy as np\n",
    "import matplotlib.pyplot as plt\n",
    "from matplotlib.colors import ListedColormap\n",
    "import seaborn as sns\n",
    "\n",
    "print('Setup completed!')"
   ]
  },
  {
   "cell_type": "code",
   "execution_count": 80,
   "metadata": {},
   "outputs": [],
   "source": [
    "DATASET = '../data/'"
   ]
  },
  {
   "cell_type": "code",
   "execution_count": 81,
   "metadata": {},
   "outputs": [],
   "source": [
    "df = pd.read_csv(DATASET + 'breast-cancer-encoded.csv', index_col=[0])"
   ]
  },
  {
   "cell_type": "code",
   "execution_count": 82,
   "metadata": {},
   "outputs": [
    {
     "data": {
      "text/html": [
       "<div>\n",
       "<style scoped>\n",
       "    .dataframe tbody tr th:only-of-type {\n",
       "        vertical-align: middle;\n",
       "    }\n",
       "\n",
       "    .dataframe tbody tr th {\n",
       "        vertical-align: top;\n",
       "    }\n",
       "\n",
       "    .dataframe thead th {\n",
       "        text-align: right;\n",
       "    }\n",
       "</style>\n",
       "<table border=\"1\" class=\"dataframe\">\n",
       "  <thead>\n",
       "    <tr style=\"text-align: right;\">\n",
       "      <th></th>\n",
       "      <th>class</th>\n",
       "      <th>age</th>\n",
       "      <th>menopause</th>\n",
       "      <th>tumor-size</th>\n",
       "      <th>inv-nodes</th>\n",
       "      <th>node-caps</th>\n",
       "      <th>def-malig</th>\n",
       "      <th>breast</th>\n",
       "      <th>breast-quad</th>\n",
       "      <th>irradiat</th>\n",
       "    </tr>\n",
       "  </thead>\n",
       "  <tbody>\n",
       "    <tr>\n",
       "      <th>0</th>\n",
       "      <td>no-recurrence-events</td>\n",
       "      <td>1</td>\n",
       "      <td>2</td>\n",
       "      <td>5</td>\n",
       "      <td>0</td>\n",
       "      <td>0</td>\n",
       "      <td>2</td>\n",
       "      <td>0</td>\n",
       "      <td>1</td>\n",
       "      <td>0</td>\n",
       "    </tr>\n",
       "    <tr>\n",
       "      <th>1</th>\n",
       "      <td>no-recurrence-events</td>\n",
       "      <td>2</td>\n",
       "      <td>2</td>\n",
       "      <td>3</td>\n",
       "      <td>0</td>\n",
       "      <td>0</td>\n",
       "      <td>1</td>\n",
       "      <td>1</td>\n",
       "      <td>4</td>\n",
       "      <td>0</td>\n",
       "    </tr>\n",
       "    <tr>\n",
       "      <th>2</th>\n",
       "      <td>no-recurrence-events</td>\n",
       "      <td>2</td>\n",
       "      <td>2</td>\n",
       "      <td>3</td>\n",
       "      <td>0</td>\n",
       "      <td>0</td>\n",
       "      <td>1</td>\n",
       "      <td>0</td>\n",
       "      <td>1</td>\n",
       "      <td>0</td>\n",
       "    </tr>\n",
       "    <tr>\n",
       "      <th>3</th>\n",
       "      <td>no-recurrence-events</td>\n",
       "      <td>4</td>\n",
       "      <td>0</td>\n",
       "      <td>2</td>\n",
       "      <td>0</td>\n",
       "      <td>0</td>\n",
       "      <td>1</td>\n",
       "      <td>1</td>\n",
       "      <td>2</td>\n",
       "      <td>0</td>\n",
       "    </tr>\n",
       "    <tr>\n",
       "      <th>4</th>\n",
       "      <td>no-recurrence-events</td>\n",
       "      <td>2</td>\n",
       "      <td>2</td>\n",
       "      <td>0</td>\n",
       "      <td>0</td>\n",
       "      <td>0</td>\n",
       "      <td>1</td>\n",
       "      <td>1</td>\n",
       "      <td>3</td>\n",
       "      <td>0</td>\n",
       "    </tr>\n",
       "  </tbody>\n",
       "</table>\n",
       "</div>"
      ],
      "text/plain": [
       "                  class  age  menopause  tumor-size  inv-nodes  node-caps  \\\n",
       "0  no-recurrence-events    1          2           5          0          0   \n",
       "1  no-recurrence-events    2          2           3          0          0   \n",
       "2  no-recurrence-events    2          2           3          0          0   \n",
       "3  no-recurrence-events    4          0           2          0          0   \n",
       "4  no-recurrence-events    2          2           0          0          0   \n",
       "\n",
       "   def-malig  breast  breast-quad  irradiat  \n",
       "0          2       0            1         0  \n",
       "1          1       1            4         0  \n",
       "2          1       0            1         0  \n",
       "3          1       1            2         0  \n",
       "4          1       1            3         0  "
      ]
     },
     "execution_count": 82,
     "metadata": {},
     "output_type": "execute_result"
    }
   ],
   "source": [
    "df.head()"
   ]
  },
  {
   "cell_type": "code",
   "execution_count": 83,
   "metadata": {},
   "outputs": [],
   "source": [
    "x = df.iloc[:, 1:]\n",
    "y = df['class']"
   ]
  },
  {
   "cell_type": "code",
   "execution_count": 84,
   "metadata": {},
   "outputs": [],
   "source": [
    "from sklearn.model_selection import train_test_split\n",
    "\n",
    "x_train, x_test, y_train, y_test = train_test_split(\n",
    "    x, y, stratify=y, test_size=0.2, random_state=42\n",
    ")"
   ]
  },
  {
   "cell_type": "code",
   "execution_count": 85,
   "metadata": {},
   "outputs": [
    {
     "data": {
      "text/plain": [
       "((220, 9), (56, 9))"
      ]
     },
     "execution_count": 85,
     "metadata": {},
     "output_type": "execute_result"
    }
   ],
   "source": [
    "x_train.shape, x_test.shape"
   ]
  },
  {
   "cell_type": "markdown",
   "metadata": {},
   "source": [
    "## Build Classification models"
   ]
  },
  {
   "cell_type": "code",
   "execution_count": 86,
   "metadata": {},
   "outputs": [],
   "source": [
    "from sklearn.metrics import accuracy_score\n",
    "from sklearn.metrics import matthews_corrcoef\n",
    "from sklearn.metrics import f1_score"
   ]
  },
  {
   "cell_type": "markdown",
   "metadata": {},
   "source": [
    "### K-Nearest Neighbors"
   ]
  },
  {
   "cell_type": "code",
   "execution_count": 87,
   "metadata": {},
   "outputs": [],
   "source": [
    "from sklearn.neighbors import KNeighborsClassifier\n",
    "\n",
    "knn = KNeighborsClassifier(3)\n",
    "knn.fit(x_train, y_train)\n",
    "\n",
    "# make predictions\n",
    "y_train_pred = knn.predict(x_train)\n",
    "y_test_pred = knn.predict(x_test)\n",
    "\n",
    "# training set performance\n",
    "knn_train_accuracy = accuracy_score(y_train, y_train_pred)\n",
    "knn_train_mcc = matthews_corrcoef(y_train, y_train_pred)\n",
    "knn_train_f1 = f1_score(y_train, y_train_pred, average='weighted')\n",
    "\n",
    "# test set performance\n",
    "knn_test_accuracy = accuracy_score(y_test, y_test_pred)\n",
    "knn_test_mcc = matthews_corrcoef(y_test, y_test_pred)\n",
    "knn_test_f1 = f1_score(y_test, y_test_pred, average='weighted')\n"
   ]
  },
  {
   "cell_type": "code",
   "execution_count": 88,
   "metadata": {},
   "outputs": [
    {
     "name": "stdout",
     "output_type": "stream",
     "text": [
      "Model performance for training set\n",
      "Accuracy: 0.8090909090909091\n",
      "MCC: 0.513205391695839\n",
      "F1 score: 0.7989883592017737\n",
      "--------------------------------------\n",
      "Model performance for test set\n",
      "Accuracy: 0.7321428571428571\n",
      "MCC: 0.2613838422748508\n",
      "F1 score: 0.7054187192118225\n"
     ]
    }
   ],
   "source": [
    "print('Model performance for training set')\n",
    "print(f'Accuracy: {knn_train_accuracy}')\n",
    "print(f'MCC: {knn_train_mcc}')\n",
    "print(f'F1 score: {knn_train_f1}')\n",
    "print('--------------------------------------')\n",
    "print('Model performance for test set')\n",
    "print(f'Accuracy: {knn_test_accuracy}')\n",
    "print(f'MCC: {knn_test_mcc}')\n",
    "print(f'F1 score: {knn_test_f1}')"
   ]
  },
  {
   "cell_type": "markdown",
   "metadata": {},
   "source": [
    "#### KNN did not overfit the data"
   ]
  },
  {
   "cell_type": "markdown",
   "metadata": {},
   "source": [
    "## Support Vector Machine (SVM)"
   ]
  },
  {
   "cell_type": "code",
   "execution_count": 89,
   "metadata": {},
   "outputs": [
    {
     "data": {
      "text/plain": [
       "SVC(C=1, gamma=2)"
      ]
     },
     "execution_count": 89,
     "metadata": {},
     "output_type": "execute_result"
    }
   ],
   "source": [
    "from sklearn.svm import SVC\n",
    "\n",
    "svm = SVC(gamma=2, C=1)\n",
    "svm.fit(x_train, y_train)"
   ]
  },
  {
   "cell_type": "code",
   "execution_count": 90,
   "metadata": {},
   "outputs": [],
   "source": [
    "# make predictions\n",
    "y_train_pred = svm.predict(x_train)\n",
    "y_test_pred = svm.predict(x_test)\n",
    "\n",
    "# training set performance\n",
    "svm_train_accuracy = accuracy_score(y_train, y_train_pred)\n",
    "svm_train_mcc = matthews_corrcoef(y_train, y_train_pred)\n",
    "svm_train_f1 = f1_score(y_train, y_train_pred, average='weighted')\n",
    "\n",
    "# test set performance\n",
    "svm_test_accuracy = accuracy_score(y_test, y_test_pred)\n",
    "svm_test_mcc = matthews_corrcoef(y_test, y_test_pred)\n",
    "svm_test_f1 = f1_score(y_test, y_test_pred, average='weighted')"
   ]
  },
  {
   "cell_type": "code",
   "execution_count": 91,
   "metadata": {},
   "outputs": [
    {
     "name": "stdout",
     "output_type": "stream",
     "text": [
      "Model performance for training set\n",
      "Accuracy: 0.9772727272727273\n",
      "MCC: 0.9451890389839106\n",
      "F1 score: 0.9771132115601437\n",
      "--------------------------------------\n",
      "Model performance for test set\n",
      "Accuracy: 0.7321428571428571\n",
      "MCC: 0.21320071635561041\n",
      "F1 score: 0.6351172047766476\n"
     ]
    }
   ],
   "source": [
    "print('Model performance for training set')\n",
    "print(f'Accuracy: {svm_train_accuracy}')\n",
    "print(f'MCC: {svm_train_mcc}')\n",
    "print(f'F1 score: {svm_train_f1}')\n",
    "print('--------------------------------------')\n",
    "print('Model performance for test set')\n",
    "print(f'Accuracy: {svm_test_accuracy}')\n",
    "print(f'MCC: {svm_test_mcc}')\n",
    "print(f'F1 score: {svm_test_f1}')"
   ]
  },
  {
   "cell_type": "markdown",
   "metadata": {},
   "source": [
    "## Neural Network"
   ]
  },
  {
   "cell_type": "code",
   "execution_count": 92,
   "metadata": {},
   "outputs": [
    {
     "data": {
      "text/plain": [
       "MLPClassifier(alpha=1, max_iter=1000)"
      ]
     },
     "execution_count": 92,
     "metadata": {},
     "output_type": "execute_result"
    }
   ],
   "source": [
    "from sklearn.neural_network import MLPClassifier\n",
    "\n",
    "mlp = MLPClassifier(alpha=1, max_iter=1000)\n",
    "mlp.fit(x_train, y_train)"
   ]
  },
  {
   "cell_type": "code",
   "execution_count": 93,
   "metadata": {},
   "outputs": [],
   "source": [
    "# make predictions\n",
    "y_train_pred = mlp.predict(x_train)\n",
    "y_test_pred = mlp.predict(x_test)\n",
    "\n",
    "# training set performance\n",
    "mlp_train_accuracy = accuracy_score(y_train, y_train_pred)\n",
    "mlp_train_mcc = matthews_corrcoef(y_train, y_train_pred)\n",
    "mlp_train_f1 = f1_score(y_train, y_train_pred, average='weighted')\n",
    "\n",
    "# test set performance\n",
    "mlp_test_accuracy = accuracy_score(y_test, y_test_pred)\n",
    "mlp_test_mcc = matthews_corrcoef(y_test, y_test_pred)\n",
    "mlp_test_f1 = f1_score(y_test, y_test_pred, average='weighted')"
   ]
  },
  {
   "cell_type": "code",
   "execution_count": 94,
   "metadata": {},
   "outputs": [
    {
     "name": "stdout",
     "output_type": "stream",
     "text": [
      "Model performance for training set\n",
      "Accuracy: 0.7727272727272727\n",
      "MCC: 0.4125812950947179\n",
      "F1 score: 0.7589531680440773\n",
      "--------------------------------------\n",
      "Model performance for test set\n",
      "Accuracy: 0.7142857142857143\n",
      "MCC: 0.27386127875258304\n",
      "F1 score: 0.708246225319396\n"
     ]
    }
   ],
   "source": [
    "print('Model performance for training set')\n",
    "print(f'Accuracy: {mlp_train_accuracy}')\n",
    "print(f'MCC: {mlp_train_mcc}')\n",
    "print(f'F1 score: {mlp_train_f1}')\n",
    "print('--------------------------------------')\n",
    "print('Model performance for test set')\n",
    "print(f'Accuracy: {mlp_test_accuracy}')\n",
    "print(f'MCC: {mlp_test_mcc}')\n",
    "print(f'F1 score: {mlp_test_f1}')"
   ]
  },
  {
   "cell_type": "markdown",
   "metadata": {},
   "source": [
    "# Build stacked model"
   ]
  },
  {
   "cell_type": "code",
   "execution_count": 95,
   "metadata": {},
   "outputs": [],
   "source": [
    "from sklearn.ensemble import StackingClassifier\n",
    "from sklearn.linear_model import LogisticRegression\n",
    "\n",
    "estimators = [\n",
    "    ('knn', knn),\n",
    "    ('svm', svm),\n",
    "    ('mlp', mlp),\n",
    "]"
   ]
  },
  {
   "cell_type": "code",
   "execution_count": 96,
   "metadata": {},
   "outputs": [],
   "source": [
    "# build stack model\n",
    "stack_model = StackingClassifier(\n",
    "    estimators=estimators, final_estimator=LogisticRegression()\n",
    ")\n",
    "\n",
    "# train stack model\n",
    "stack_model.fit(x_train, y_train)\n",
    "\n",
    "# make prediction\n",
    "y_train_pred = stack_model.predict(x_train)\n",
    "y_test_pred = stack_model.predict(x_test)\n",
    "\n",
    "# training set model performance\n",
    "stack_model_train_accuracy = accuracy_score(y_train, y_train_pred)\n",
    "stack_model_train_mcc = matthews_corrcoef(y_train, y_train_pred)\n",
    "stack_model_train_f1 = f1_score(y_train, y_train_pred, average='weighted')\n",
    "\n",
    "# test set performance\n",
    "stack_model_test_accuracy = accuracy_score(y_test, y_test_pred)\n",
    "stack_model_test_mcc = matthews_corrcoef(y_test, y_test_pred)\n",
    "stack_model_test_f1 = f1_score(y_test, y_test_pred, average='weighted')"
   ]
  },
  {
   "cell_type": "code",
   "execution_count": 97,
   "metadata": {},
   "outputs": [
    {
     "name": "stdout",
     "output_type": "stream",
     "text": [
      "Model performance for training set\n",
      "Accuracy: 0.8772727272727273\n",
      "MCC: 0.705610890403457\n",
      "F1 score: 0.8661034882837769\n",
      "--------------------------------------\n",
      "Model performance for test set\n",
      "Accuracy: 0.7321428571428571\n",
      "MCC: 0.21320071635561041\n",
      "F1 score: 0.6351172047766476\n"
     ]
    }
   ],
   "source": [
    "print('Model performance for training set')\n",
    "print(f'Accuracy: {stack_model_train_accuracy}')\n",
    "print(f'MCC: {stack_model_train_mcc}')\n",
    "print(f'F1 score: {stack_model_train_f1}')\n",
    "print('--------------------------------------')\n",
    "print('Model performance for test set')\n",
    "print(f'Accuracy: {stack_model_test_accuracy}')\n",
    "print(f'MCC: {stack_model_test_mcc}')\n",
    "print(f'F1 score: {stack_model_test_f1}')"
   ]
  },
  {
   "cell_type": "markdown",
   "metadata": {},
   "source": [
    "## Results"
   ]
  },
  {
   "cell_type": "code",
   "execution_count": 98,
   "metadata": {},
   "outputs": [],
   "source": [
    "acc_train_list = {'knn':knn_train_accuracy,\n",
    "                  'svm':svm_train_accuracy,\n",
    "                  'mlp':mlp_train_accuracy,\n",
    "                  'stack':stack_model_train_accuracy}\n",
    "\n",
    "mcc_train_list = {'knn':knn_train_mcc,\n",
    "                  'svm':svm_train_mcc,\n",
    "                  'mlp':mlp_train_mcc,\n",
    "                  'stack':stack_model_train_mcc}\n",
    "\n",
    "f1_train_list = {'knn':knn_train_f1,\n",
    "                  'svm':svm_train_f1,\n",
    "                  'mlp':mlp_train_f1,\n",
    "                  'stack':stack_model_train_f1}"
   ]
  },
  {
   "cell_type": "code",
   "execution_count": 99,
   "metadata": {},
   "outputs": [
    {
     "data": {
      "text/plain": [
       "{'knn': 0.513205391695839,\n",
       " 'svm': 0.9451890389839106,\n",
       " 'mlp': 0.4125812950947179,\n",
       " 'stack': 0.705610890403457}"
      ]
     },
     "execution_count": 99,
     "metadata": {},
     "output_type": "execute_result"
    }
   ],
   "source": [
    "mcc_train_list"
   ]
  },
  {
   "cell_type": "code",
   "execution_count": 100,
   "metadata": {},
   "outputs": [],
   "source": [
    "acc_df = pd.DataFrame.from_dict(acc_train_list, orient='index', columns=['Accuracy'])\n",
    "mcc_df = pd.DataFrame.from_dict(mcc_train_list, orient='index', columns=['MCC'])\n",
    "f1_df = pd.DataFrame.from_dict(f1_train_list, orient='index', columns=['F1'])\n",
    "\n",
    "model_df = pd.concat([acc_df, mcc_df, f1_df], axis=1)"
   ]
  },
  {
   "cell_type": "code",
   "execution_count": 101,
   "metadata": {},
   "outputs": [
    {
     "data": {
      "text/html": [
       "<div>\n",
       "<style scoped>\n",
       "    .dataframe tbody tr th:only-of-type {\n",
       "        vertical-align: middle;\n",
       "    }\n",
       "\n",
       "    .dataframe tbody tr th {\n",
       "        vertical-align: top;\n",
       "    }\n",
       "\n",
       "    .dataframe thead th {\n",
       "        text-align: right;\n",
       "    }\n",
       "</style>\n",
       "<table border=\"1\" class=\"dataframe\">\n",
       "  <thead>\n",
       "    <tr style=\"text-align: right;\">\n",
       "      <th></th>\n",
       "      <th>Accuracy</th>\n",
       "      <th>MCC</th>\n",
       "      <th>F1</th>\n",
       "    </tr>\n",
       "  </thead>\n",
       "  <tbody>\n",
       "    <tr>\n",
       "      <th>knn</th>\n",
       "      <td>0.809091</td>\n",
       "      <td>0.513205</td>\n",
       "      <td>0.798988</td>\n",
       "    </tr>\n",
       "    <tr>\n",
       "      <th>svm</th>\n",
       "      <td>0.977273</td>\n",
       "      <td>0.945189</td>\n",
       "      <td>0.977113</td>\n",
       "    </tr>\n",
       "    <tr>\n",
       "      <th>mlp</th>\n",
       "      <td>0.772727</td>\n",
       "      <td>0.412581</td>\n",
       "      <td>0.758953</td>\n",
       "    </tr>\n",
       "    <tr>\n",
       "      <th>stack</th>\n",
       "      <td>0.877273</td>\n",
       "      <td>0.705611</td>\n",
       "      <td>0.866103</td>\n",
       "    </tr>\n",
       "  </tbody>\n",
       "</table>\n",
       "</div>"
      ],
      "text/plain": [
       "       Accuracy       MCC        F1\n",
       "knn    0.809091  0.513205  0.798988\n",
       "svm    0.977273  0.945189  0.977113\n",
       "mlp    0.772727  0.412581  0.758953\n",
       "stack  0.877273  0.705611  0.866103"
      ]
     },
     "execution_count": 101,
     "metadata": {},
     "output_type": "execute_result"
    }
   ],
   "source": [
    "model_df"
   ]
  },
  {
   "cell_type": "markdown",
   "metadata": {},
   "source": [
    "## Conclusion: SVM is the best performer among the models for this dataset"
   ]
  },
  {
   "cell_type": "code",
   "execution_count": 102,
   "metadata": {},
   "outputs": [],
   "source": [
    "model_df.to_csv(DATASET + 'model-performance.csv')"
   ]
  },
  {
   "cell_type": "markdown",
   "metadata": {},
   "source": [
    "## Saving SVM model to a file"
   ]
  },
  {
   "cell_type": "code",
   "execution_count": 103,
   "metadata": {},
   "outputs": [],
   "source": [
    "import pickle"
   ]
  },
  {
   "cell_type": "code",
   "execution_count": 111,
   "metadata": {},
   "outputs": [],
   "source": [
    "with open('../svm_model', 'wb') as f:\n",
    "    mp = pickle.dump(svm, f)"
   ]
  },
  {
   "cell_type": "code",
   "execution_count": null,
   "metadata": {},
   "outputs": [],
   "source": []
  }
 ],
 "metadata": {
  "interpreter": {
   "hash": "faec18728c7b47fa67086100606100cd4f850f0f83d26ce051179629eff35c64"
  },
  "kernelspec": {
   "display_name": "Python 3.9.7 ('env': venv)",
   "language": "python",
   "name": "python3"
  },
  "language_info": {
   "codemirror_mode": {
    "name": "ipython",
    "version": 3
   },
   "file_extension": ".py",
   "mimetype": "text/x-python",
   "name": "python",
   "nbconvert_exporter": "python",
   "pygments_lexer": "ipython3",
   "version": "3.9.7"
  },
  "orig_nbformat": 4
 },
 "nbformat": 4,
 "nbformat_minor": 2
}
